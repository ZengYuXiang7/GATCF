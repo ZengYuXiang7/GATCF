{
 "cells": [
  {
   "cell_type": "code",
   "execution_count": 2,
   "metadata": {
    "collapsed": true,
    "ExecuteTime": {
     "start_time": "2023-05-12T21:38:43.667238Z",
     "end_time": "2023-05-12T21:38:44.622635Z"
    }
   },
   "outputs": [],
   "source": [
    "# coding:utf-8\n",
    "# Author: yuxiang Zeng\n",
    "from torch.utils.data import Dataset, DataLoader\n",
    "from torch.nn import *\n",
    "from tqdm import *\n",
    "from time import time\n",
    "import numpy as np\n",
    "import pickle as pk\n",
    "import pandas as pd\n",
    "import torch as t"
   ]
  },
  {
   "cell_type": "code",
   "execution_count": 9,
   "outputs": [
    {
     "data": {
      "text/plain": "    Unnamed: 0            addr  \\\n0            0   146.57.249.99   \n1            1   207.148.15.13   \n2            2  195.113.161.84   \n3            3  149.28.149.145   \n4            4   146.57.249.98   \n..         ...             ...   \n95          95  165.230.49.114   \n96          96    155.225.2.72   \n97          97   204.85.191.10   \n98          98  199.247.27.122   \n99          99    128.10.18.53   \n\n                                                   as                    city  \\\n0                       AS217 University of Minnesota                 Willmar   \n1                                 AS20473 Choopa, LLC       Elk Grove Village   \n2                              AS2852 CESNET z.s.p.o.                  Pilsen   \n3                                 AS20473 Choopa, LLC       Queenstown Estate   \n4                       AS217 University of Minnesota                 Willmar   \n..                                                ...                     ...   \n95                            AS46 Rutgers University  Township of Piscataway   \n96                                AS53257 The Citadel              Charleston   \n97  AS36850 University of North Carolina at Chapel...             Chapel Hill   \n98                                AS20473 Choopa, LLC               Amsterdam   \n99                             AS17 Purdue University          West Lafayette   \n\n          country countryCode                                          isp  \\\n0   United States          US                      University of Minnesota   \n1   United States          US                                       Choopa   \n2         Czechia          CZ                                   CESNET-TCZ   \n3       Singapore          SG                                       Choopa   \n4   United States          US                      University of Minnesota   \n..            ...         ...                                          ...   \n95  United States          US                           Rutgers University   \n96  United States          US                                  The Citadel   \n97  United States          US  University of North Carolina at Chapel Hill   \n98    Netherlands          NL                                  Choopa, LLC   \n99  United States          US                            Purdue University   \n\n         lat       lon                                            org  \\\n0   45.13860  -95.0525                        University of Minnesota   \n1   42.00480  -87.9954                            Vultr Holdings, LLC   \n2   49.77050   13.3689                                            NaN   \n3    1.29544  103.7900                            Vultr Holdings, LLC   \n4   45.13860  -95.0525                        University of Minnesota   \n..       ...       ...                                            ...   \n95  40.52090  -74.4612                             Rutgers University   \n96  32.79900  -79.9571                                    The Citadel   \n97  35.91510  -79.0972  North Carolina Research and Education Network   \n98  52.38910    4.6563                   Vultr Holdings LLC Amsterdam   \n99  40.44440  -86.9256                              Purdue University   \n\n             query region      regionName   status  \\\n0    146.57.249.99     MN       Minnesota  success   \n1    207.148.15.13     IL        Illinois  success   \n2   195.113.161.84     32   Plzensky kraj  success   \n3   149.28.149.145    NaN             NaN  success   \n4    146.57.249.98     MN       Minnesota  success   \n..             ...    ...             ...      ...   \n95  165.230.49.114     NJ      New Jersey  success   \n96    155.225.2.72     SC  South Carolina  success   \n97   204.85.191.10     NC  North Carolina  success   \n98  199.247.27.122     NH   North Holland  success   \n99    128.10.18.53     IN         Indiana  success   \n\n                        timezone         zip  \n0                America/Chicago       56201  \n1                America/Chicago       60007  \n2                  Europe/Prague      323 00  \n3                 Asia/Singapore      139964  \n4                America/Chicago       56201  \n..                           ...         ...  \n95              America/New_York  08854-8089  \n96              America/New_York       29409  \n97              America/New_York       27516  \n98              Europe/Amsterdam        2031  \n99  America/Indiana/Indianapolis       47906  \n\n[100 rows x 16 columns]",
      "text/html": "<div>\n<style scoped>\n    .dataframe tbody tr th:only-of-type {\n        vertical-align: middle;\n    }\n\n    .dataframe tbody tr th {\n        vertical-align: top;\n    }\n\n    .dataframe thead th {\n        text-align: right;\n    }\n</style>\n<table border=\"1\" class=\"dataframe\">\n  <thead>\n    <tr style=\"text-align: right;\">\n      <th></th>\n      <th>Unnamed: 0</th>\n      <th>addr</th>\n      <th>as</th>\n      <th>city</th>\n      <th>country</th>\n      <th>countryCode</th>\n      <th>isp</th>\n      <th>lat</th>\n      <th>lon</th>\n      <th>org</th>\n      <th>query</th>\n      <th>region</th>\n      <th>regionName</th>\n      <th>status</th>\n      <th>timezone</th>\n      <th>zip</th>\n    </tr>\n  </thead>\n  <tbody>\n    <tr>\n      <th>0</th>\n      <td>0</td>\n      <td>146.57.249.99</td>\n      <td>AS217 University of Minnesota</td>\n      <td>Willmar</td>\n      <td>United States</td>\n      <td>US</td>\n      <td>University of Minnesota</td>\n      <td>45.13860</td>\n      <td>-95.0525</td>\n      <td>University of Minnesota</td>\n      <td>146.57.249.99</td>\n      <td>MN</td>\n      <td>Minnesota</td>\n      <td>success</td>\n      <td>America/Chicago</td>\n      <td>56201</td>\n    </tr>\n    <tr>\n      <th>1</th>\n      <td>1</td>\n      <td>207.148.15.13</td>\n      <td>AS20473 Choopa, LLC</td>\n      <td>Elk Grove Village</td>\n      <td>United States</td>\n      <td>US</td>\n      <td>Choopa</td>\n      <td>42.00480</td>\n      <td>-87.9954</td>\n      <td>Vultr Holdings, LLC</td>\n      <td>207.148.15.13</td>\n      <td>IL</td>\n      <td>Illinois</td>\n      <td>success</td>\n      <td>America/Chicago</td>\n      <td>60007</td>\n    </tr>\n    <tr>\n      <th>2</th>\n      <td>2</td>\n      <td>195.113.161.84</td>\n      <td>AS2852 CESNET z.s.p.o.</td>\n      <td>Pilsen</td>\n      <td>Czechia</td>\n      <td>CZ</td>\n      <td>CESNET-TCZ</td>\n      <td>49.77050</td>\n      <td>13.3689</td>\n      <td>NaN</td>\n      <td>195.113.161.84</td>\n      <td>32</td>\n      <td>Plzensky kraj</td>\n      <td>success</td>\n      <td>Europe/Prague</td>\n      <td>323 00</td>\n    </tr>\n    <tr>\n      <th>3</th>\n      <td>3</td>\n      <td>149.28.149.145</td>\n      <td>AS20473 Choopa, LLC</td>\n      <td>Queenstown Estate</td>\n      <td>Singapore</td>\n      <td>SG</td>\n      <td>Choopa</td>\n      <td>1.29544</td>\n      <td>103.7900</td>\n      <td>Vultr Holdings, LLC</td>\n      <td>149.28.149.145</td>\n      <td>NaN</td>\n      <td>NaN</td>\n      <td>success</td>\n      <td>Asia/Singapore</td>\n      <td>139964</td>\n    </tr>\n    <tr>\n      <th>4</th>\n      <td>4</td>\n      <td>146.57.249.98</td>\n      <td>AS217 University of Minnesota</td>\n      <td>Willmar</td>\n      <td>United States</td>\n      <td>US</td>\n      <td>University of Minnesota</td>\n      <td>45.13860</td>\n      <td>-95.0525</td>\n      <td>University of Minnesota</td>\n      <td>146.57.249.98</td>\n      <td>MN</td>\n      <td>Minnesota</td>\n      <td>success</td>\n      <td>America/Chicago</td>\n      <td>56201</td>\n    </tr>\n    <tr>\n      <th>...</th>\n      <td>...</td>\n      <td>...</td>\n      <td>...</td>\n      <td>...</td>\n      <td>...</td>\n      <td>...</td>\n      <td>...</td>\n      <td>...</td>\n      <td>...</td>\n      <td>...</td>\n      <td>...</td>\n      <td>...</td>\n      <td>...</td>\n      <td>...</td>\n      <td>...</td>\n      <td>...</td>\n    </tr>\n    <tr>\n      <th>95</th>\n      <td>95</td>\n      <td>165.230.49.114</td>\n      <td>AS46 Rutgers University</td>\n      <td>Township of Piscataway</td>\n      <td>United States</td>\n      <td>US</td>\n      <td>Rutgers University</td>\n      <td>40.52090</td>\n      <td>-74.4612</td>\n      <td>Rutgers University</td>\n      <td>165.230.49.114</td>\n      <td>NJ</td>\n      <td>New Jersey</td>\n      <td>success</td>\n      <td>America/New_York</td>\n      <td>08854-8089</td>\n    </tr>\n    <tr>\n      <th>96</th>\n      <td>96</td>\n      <td>155.225.2.72</td>\n      <td>AS53257 The Citadel</td>\n      <td>Charleston</td>\n      <td>United States</td>\n      <td>US</td>\n      <td>The Citadel</td>\n      <td>32.79900</td>\n      <td>-79.9571</td>\n      <td>The Citadel</td>\n      <td>155.225.2.72</td>\n      <td>SC</td>\n      <td>South Carolina</td>\n      <td>success</td>\n      <td>America/New_York</td>\n      <td>29409</td>\n    </tr>\n    <tr>\n      <th>97</th>\n      <td>97</td>\n      <td>204.85.191.10</td>\n      <td>AS36850 University of North Carolina at Chapel...</td>\n      <td>Chapel Hill</td>\n      <td>United States</td>\n      <td>US</td>\n      <td>University of North Carolina at Chapel Hill</td>\n      <td>35.91510</td>\n      <td>-79.0972</td>\n      <td>North Carolina Research and Education Network</td>\n      <td>204.85.191.10</td>\n      <td>NC</td>\n      <td>North Carolina</td>\n      <td>success</td>\n      <td>America/New_York</td>\n      <td>27516</td>\n    </tr>\n    <tr>\n      <th>98</th>\n      <td>98</td>\n      <td>199.247.27.122</td>\n      <td>AS20473 Choopa, LLC</td>\n      <td>Amsterdam</td>\n      <td>Netherlands</td>\n      <td>NL</td>\n      <td>Choopa, LLC</td>\n      <td>52.38910</td>\n      <td>4.6563</td>\n      <td>Vultr Holdings LLC Amsterdam</td>\n      <td>199.247.27.122</td>\n      <td>NH</td>\n      <td>North Holland</td>\n      <td>success</td>\n      <td>Europe/Amsterdam</td>\n      <td>2031</td>\n    </tr>\n    <tr>\n      <th>99</th>\n      <td>99</td>\n      <td>128.10.18.53</td>\n      <td>AS17 Purdue University</td>\n      <td>West Lafayette</td>\n      <td>United States</td>\n      <td>US</td>\n      <td>Purdue University</td>\n      <td>40.44440</td>\n      <td>-86.9256</td>\n      <td>Purdue University</td>\n      <td>128.10.18.53</td>\n      <td>IN</td>\n      <td>Indiana</td>\n      <td>success</td>\n      <td>America/Indiana/Indianapolis</td>\n      <td>47906</td>\n    </tr>\n  </tbody>\n</table>\n<p>100 rows × 16 columns</p>\n</div>"
     },
     "execution_count": 9,
     "metadata": {},
     "output_type": "execute_result"
    }
   ],
   "source": [
    "df = pd.read_csv('./ClientWithCTX.csv')\n",
    "df"
   ],
   "metadata": {
    "collapsed": false,
    "ExecuteTime": {
     "start_time": "2023-05-12T21:41:02.230956Z",
     "end_time": "2023-05-12T21:41:02.283426Z"
    }
   }
  },
  {
   "cell_type": "code",
   "execution_count": 13,
   "outputs": [
    {
     "data": {
      "text/plain": "Unnamed: 0     100\naddr           100\nas              39\ncity            48\ncountry         16\ncountryCode     16\nisp             40\nlat             55\nlon             55\norg             42\nquery          100\nregion          38\nregionName      39\nstatus           1\ntimezone        24\nzip             48\ndtype: int64"
     },
     "execution_count": 13,
     "metadata": {},
     "output_type": "execute_result"
    }
   ],
   "source": [
    "df.nunique()"
   ],
   "metadata": {
    "collapsed": false,
    "ExecuteTime": {
     "start_time": "2023-05-12T21:41:13.540034Z",
     "end_time": "2023-05-12T21:41:13.575333Z"
    }
   }
  },
  {
   "cell_type": "code",
   "execution_count": 5,
   "outputs": [],
   "source": [
    "final_data = []\n",
    "for i in range(len(df)):\n",
    "    temp = df[i, 0].split('\\t')\n",
    "    ans = []\n",
    "    for j in range(len(temp)):\n",
    "        if temp[j] == '':\n",
    "            continue\n",
    "        ans.append(float(temp[j]))\n",
    "    final_data.append(ans)\n",
    "final_data = np.array(final_data)"
   ],
   "metadata": {
    "collapsed": false,
    "ExecuteTime": {
     "start_time": "2023-05-06T17:12:47.486073Z",
     "end_time": "2023-05-06T17:12:47.518670Z"
    }
   }
  },
  {
   "cell_type": "code",
   "execution_count": 6,
   "outputs": [
    {
     "data": {
      "text/plain": "array([[0.88659794, 0.83495146, 0.86170213, ..., 0.        , 0.06666667,\n        0.90625   ],\n       [0.87640449, 0.50666667, 0.85185185, ..., 0.        , 0.07207207,\n        0.97115385],\n       [0.87341772, 0.88596491, 0.81904762, ..., 0.        , 0.07407407,\n        0.91752577],\n       ...,\n       [0.89473684, 0.85106383, 0.83870968, ..., 0.        , 0.05154639,\n        0.92792793],\n       [0.85714286, 0.90625   , 0.76      , ..., 0.        , 0.03921569,\n        0.95798319],\n       [0.95876289, 0.85576923, 0.8440367 , ..., 0.        , 0.08791209,\n        0.91089109]])"
     },
     "execution_count": 6,
     "metadata": {},
     "output_type": "execute_result"
    }
   ],
   "source": [
    "final_data"
   ],
   "metadata": {
    "collapsed": false,
    "ExecuteTime": {
     "start_time": "2023-05-06T17:12:47.502528Z",
     "end_time": "2023-05-06T17:12:47.519667Z"
    }
   }
  },
  {
   "cell_type": "code",
   "execution_count": 7,
   "outputs": [
    {
     "data": {
      "text/plain": "numpy.float64"
     },
     "execution_count": 7,
     "metadata": {},
     "output_type": "execute_result"
    }
   ],
   "source": [
    "type(final_data[0, 0])"
   ],
   "metadata": {
    "collapsed": false,
    "ExecuteTime": {
     "start_time": "2023-05-06T17:12:47.516676Z",
     "end_time": "2023-05-06T17:12:47.539601Z"
    }
   }
  },
  {
   "cell_type": "code",
   "execution_count": 8,
   "outputs": [
    {
     "data": {
      "text/plain": "0.8865979381443299"
     },
     "execution_count": 8,
     "metadata": {},
     "output_type": "execute_result"
    }
   ],
   "source": [
    "float(final_data[0, 0])"
   ],
   "metadata": {
    "collapsed": false,
    "ExecuteTime": {
     "start_time": "2023-05-06T17:12:47.533623Z",
     "end_time": "2023-05-06T17:12:47.584462Z"
    }
   }
  },
  {
   "cell_type": "code",
   "execution_count": 8,
   "outputs": [],
   "source": [],
   "metadata": {
    "collapsed": false,
    "ExecuteTime": {
     "start_time": "2023-05-06T17:12:47.547573Z",
     "end_time": "2023-05-06T17:12:47.594097Z"
    }
   }
  }
 ],
 "metadata": {
  "kernelspec": {
   "display_name": "Python 3",
   "language": "python",
   "name": "python3"
  },
  "language_info": {
   "codemirror_mode": {
    "name": "ipython",
    "version": 2
   },
   "file_extension": ".py",
   "mimetype": "text/x-python",
   "name": "python",
   "nbconvert_exporter": "python",
   "pygments_lexer": "ipython2",
   "version": "2.7.6"
  }
 },
 "nbformat": 4,
 "nbformat_minor": 0
}
